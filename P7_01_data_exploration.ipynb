{
 "cells": [
  {
   "cell_type": "markdown",
   "id": "1a3bd390-d03c-4f93-bf09-8610ce6b4dd8",
   "metadata": {},
   "source": [
    "# Exploration des données initiales"
   ]
  },
  {
   "cell_type": "markdown",
   "id": "58f2abda-d047-4b3a-a6f7-c1c6296dad10",
   "metadata": {},
   "source": [
    "Avant de préparer des données, on lit ici les différences fichiers composants ce projet à partir d'un dossier externe pour éviter à télécharger des données de grandes tailles sur Github."
   ]
  },
  {
   "cell_type": "code",
   "execution_count": 1,
   "id": "9e77429a-0364-4577-a784-9c9e5b5d1de5",
   "metadata": {},
   "outputs": [],
   "source": [
    "# Import standard libraries\n",
    "import pandas as pd\n",
    "import numpy as np\n",
    "from glob import glob\n",
    "import swifter # librairie pour faire du multithreading\n"
   ]
  },
  {
   "cell_type": "markdown",
   "id": "ea43492f-71b6-44d3-b579-0cdfa76816f7",
   "metadata": {},
   "source": [
    "## Donnees d'applications"
   ]
  },
  {
   "cell_type": "code",
   "execution_count": 2,
   "id": "eaf2b7fe-a78f-4f39-9d12-2568b7a13f81",
   "metadata": {},
   "outputs": [
    {
     "name": "stdout",
     "output_type": "stream",
     "text": [
      "<class 'pandas.core.frame.DataFrame'>\n",
      "Int64Index: 356255 entries, 0 to 48743\n",
      "Columns: 122 entries, SK_ID_CURR to AMT_REQ_CREDIT_BUREAU_YEAR\n",
      "dtypes: float64(66), int64(40), object(16)\n",
      "memory usage: 334.3+ MB\n"
     ]
    }
   ],
   "source": [
    "# Tables principales avec un crédit par ligne\n",
    "application_test = pd.read_csv(\n",
    "    \"../data/home-credit-default-risk/application_test.csv\")\n",
    "application_train = pd.read_csv(\n",
    "    \"../data/home-credit-default-risk/application_train.csv\")\n",
    "full_application = pd.concat([application_train, application_test], axis=0)\n",
    "full_application.info()\n",
    "\n",
    "# Donnees concernant les credits precedents des clients dans nos bases principales, une ligne par credit precedent\n",
    "bureau = pd.read_csv(\"../data/home-credit-default-risk/bureau.csv\")\n",
    "bureau.head()"
   ]
  },
  {
   "cell_type": "code",
   "execution_count": 22,
   "id": "d16db7ab-e50d-4316-8439-d92116483d93",
   "metadata": {},
   "outputs": [],
   "source": [
    "# Donnees concernants les \"balances\" mensuelles pour chaque credits precedents\n",
    "bureau_balance = pd.read_csv(\n",
    "    \"../data/home-credit-default-risk/bureau_balance.csv\")\n",
    "bureau_balance_latest = bureau_balance[bureau_balance[\"MONTHS_BALANCE\"] == 0]\n",
    "bureau = bureau.join(bureau_balance_latest, on=\"SK_BUREAU_ID\",\n",
    "                     how=\"left\", rsuffix=\"bureau_balance\")\n",
    "bureau_contrat = pd.DataFrame(\n",
    "    set(bureau[\"SK_ID_CURR\"]), columns=[\"SK_ID_CURR\"])\n",
    "bureau_contrat[\"distinct_loans\"] = bureau_contrat[\"SK_ID_CURR\"].swifter.apply(\n",
    "    lambda x: len(set(bureau[bureau[\"SK_ID_CURR\"] == x][\"SK_BUREAU_ID\"])))\n",
    "bureau_contrat[\"average_nb_times_prolonged\"] = bureau_contrat[\"SK_ID_CURR\"].swifter.apply(\n",
    "    lambda x: bureau[bureau[\"SK_ID_CURR\"] == x][\"CREDIT_DAY_OVERDUE\"].mean())\n",
    "bureau_contrat[\"sum_current_debt\"] = bureau_contrat[\"SK_ID_CURR\"].swifter.apply(\n",
    "    lambda x: bureau[bureau[\"SK_ID_CURR\"] == x][\"AMT_CREDIT_SUM_DEBT\"].sum())\n",
    "bureau_contrat[\"nb_credits_type\"] = bureau_contrat[\"SK_ID_CURR\"].swifter.apply(\n",
    "    lambda x: len(set(bureau[bureau[\"SK_ID_CURR\"] == x][\"CREDIT_TYPE\"].mean())))\n",
    "bureau_contrat[\"sum_overdue_debt\"] = bureau_contrat[\"SK_ID_CURR\"].swifter.apply(\n",
    "    lambda x: len(set(bureau[bureau[\"SK_ID_CURR\"] == x][\"AMT_CREDIT_SUM_OVERDUE\"].mean())))"
   ]
  },
  {
   "cell_type": "code",
   "execution_count": null,
   "id": "8cbe02ee-2167-49ed-a339-f5aee5b4a5fd",
   "metadata": {},
   "outputs": [],
   "source": [
    "# Donnees concernants les \"balances\" mensuelles pour chaque credits precedents\n",
    "bureau_balance = pd.read_csv(\n",
    "    \"../data/home-credit-default-risk/bureau_balance.csv\")\n",
    "# donnees concernants les \"balances\" mensuelles de cartes de credit precedentes que le client avait avec home credit\n",
    "credit_card_balance = pd.read_csv(\n",
    "    \"../data/home-credit-default-risk/credit_card_balance.csv\")\n",
    "# description des colonnnes des differents fichiers\n",
    "HomeCredit_columns_description = pd.read_csv(\n",
    "    \"../data/home-credit-default-risk/HomeCredit_columns_description.csv\")\n",
    "# historique de repaiements de credits precedemment accordes chez home credit\n",
    "installments_payments = pd.read_csv(\n",
    "    \"../data/home-credit-default-risk/installments_payments.csv\")\n",
    "# Donnees concernants les \"balances\" mensuelles des POS et credits precedents qu'un client a eu avec home credit\n",
    "POS_CASH_balance = pd.read_csv(\n",
    "    \"../data/home-credit-default-risk/POS_CASH_balance.csv\")\n",
    "# applications precedentes avec home credit de clients qui ont un credit chez eux\n",
    "previous_application = pd.read_csv(\n",
    "    \"../data/home-credit-default-risk/previous_application.csv\")\n",
    "#\n",
    "sample_submission = pd.read_csv(\n",
    "    \"../data/home-credit-default-risk/sample_submission.csv\")\n"
   ]
  }
 ],
 "metadata": {
  "kernelspec": {
   "display_name": "Python 3",
   "language": "python",
   "name": "python3"
  },
  "language_info": {
   "codemirror_mode": {
    "name": "ipython",
    "version": 3
   },
   "file_extension": ".py",
   "mimetype": "text/x-python",
   "name": "python",
   "nbconvert_exporter": "python",
   "pygments_lexer": "ipython3",
   "version": "3.7.6"
  }
 },
 "nbformat": 4,
 "nbformat_minor": 5
}
