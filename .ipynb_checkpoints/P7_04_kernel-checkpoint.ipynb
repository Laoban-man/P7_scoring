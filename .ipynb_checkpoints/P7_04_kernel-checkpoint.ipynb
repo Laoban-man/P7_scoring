{
 "cells": [
  {
   "cell_type": "code",
   "execution_count": null,
   "id": "1a82004d-570d-4035-83aa-8749e0e75a5b",
   "metadata": {},
   "outputs": [],
   "source": []
  }
 ],
 "metadata": {
  "kernelspec": {
   "display_name": "Python 3",
   "language": "python",
   "name": "python3"
  },
  "language_info": {
   "name": ""
  }
 },
 "nbformat": 4,
 "nbformat_minor": 5
}
