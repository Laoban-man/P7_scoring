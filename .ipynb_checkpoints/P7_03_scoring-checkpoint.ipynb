{
 "cells": [
  {
   "cell_type": "code",
   "execution_count": 1,
   "id": "4e46d788-d936-476d-ae02-2f1ebc2cf4e3",
   "metadata": {},
   "outputs": [],
   "source": [
    "# Import standard libraries\n",
    "import pandas as pd\n",
    "import numpy as np\n",
    "from glob import glob\n",
    "import io\n",
    "import re\n",
    "\n",
    "# Import image processing/reading libraries\n",
    "import cv2\n",
    "import matplotlib.pyplot as plt\n",
    "from skimage import transform\n",
    "import albumentations as A\n",
    "\n",
    "from sklearn.feature_extraction.text import TfidfVectorizer\n",
    "from sklearn.cluster import MiniBatchKMeans\n",
    "from sklearn.model_selection import train_test_split\n",
    "\n",
    "import os\n",
    "\n",
    "\n",
    "# Other libraries\n",
    "from IPython.display import clear_output"
   ]
  },
  {
   "cell_type": "code",
   "execution_count": 2,
   "id": "22b1016f-c135-4c85-916a-2f0390f1a517",
   "metadata": {},
   "outputs": [],
   "source": [
    "from sklearn.datasets import load_iris"
   ]
  },
  {
   "cell_type": "code",
   "execution_count": 5,
   "id": "ca077f71-1a54-410b-8ab5-501975289c43",
   "metadata": {},
   "outputs": [],
   "source": [
    "import numpy as np\n",
    "import pandas as pd\n",
    "import pickle\n",
    "\n",
    "from sklearn.model_selection import train_test_split\n",
    "from sklearn.linear_model import LinearRegression\n",
    "\n",
    "\n",
    "class Model:\n",
    "    def __init__(self, X=[], y=[], model_type=\"linear\", params=[]):\n",
    "        self.X = X\n",
    "        self.y = y\n",
    "        if model_type == \"linear\":\n",
    "            self.model = LinearRegression()\n",
    "        elif model_type == \"test1\":\n",
    "            self.model = model_type(params[0], params[1], params[2])\n",
    "        elif model_type == \"test2\":\n",
    "            self.model = model_type(params[0], params[1], params[2])\n",
    "\n",
    "    def split(self, test_size):\n",
    "        X = np.array(self.X)\n",
    "        y = np.array(self.y)\n",
    "        self.X_train, self.X_test, self.y_train, self.y_test = train_test_split(\n",
    "            X, y, test_size=test_size, random_state=42\n",
    "        )\n",
    "\n",
    "    def fit(self):\n",
    "        self.fitted_model = self.model.fit(self.X_train, self.y_train)\n",
    "        pickle.dump(self.model, open( \"saved_model.pkl\", \"wb\" ))\n",
    "\n",
    "    def predict(self,new_data=None):\n",
    "        if type(new_data) != np.array:\n",
    "            try:\n",
    "                self.result = self.model.predict(self.X_test)\n",
    "            except:\n",
    "                print(\"No data was likely in the defined instance\")\n",
    "            return\n",
    "        else:\n",
    "            self.result = self.model.predict(new_data)\n",
    "        return self.result\n",
    "\n",
    "    def save_model(self, model_file=\"saved_model.pkl\"):\n",
    "        pickle.dump(self.model, open(model_file, \"wb\" ))\n",
    "\n",
    "    def import_model(self, model_file=\"saved_model.pkl\"):\n",
    "        self.model = pickle.load(open(model_file, \"rb\" ))"
   ]
  },
  {
   "cell_type": "code",
   "execution_count": 6,
   "id": "f97ebb3e-2129-41ad-bd46-04fc920dfaaa",
   "metadata": {},
   "outputs": [],
   "source": [
    "X,y=load_iris(return_X_y=True)\n",
    "model=Model(X,y,\"linear\",[])\n",
    "model.split(0.5)\n",
    "model.fit()\n",
    "model.predict()\n",
    "model.save_model()"
   ]
  },
  {
   "cell_type": "code",
   "execution_count": 36,
   "id": "afce2a31-4950-4e5b-a519-45c78a4fdccc",
   "metadata": {},
   "outputs": [
    {
     "name": "stdout",
     "output_type": "stream",
     "text": [
      "No data was likely in the defined instance\n"
     ]
    }
   ],
   "source": [
    "model2=Model()\n",
    "model2.import_model()\n",
    "X,y=load_iris(return_X_y=True)\n",
    "model2.predict()"
   ]
  },
  {
   "cell_type": "code",
   "execution_count": 16,
   "id": "fd98245b-7db2-477c-9726-58857777eb4c",
   "metadata": {},
   "outputs": [
    {
     "data": {
      "text/plain": [
       "1.2459646652496954"
      ]
     },
     "execution_count": 16,
     "metadata": {},
     "output_type": "execute_result"
    }
   ],
   "source": [
    "import requests\n",
    "import json\n",
    "\n",
    "input_data={\"data\":[0,1,2,3,4]}\n",
    "response = requests.get(\"http://localhost:8000/prediction\",params=input_data)\n",
    "response.content\n",
    "json.loads(response.content)[\"data\"]"
   ]
  },
  {
   "cell_type": "code",
   "execution_count": 17,
   "id": "22e98bdb-4ad9-4cd7-96b3-fcfd6287099f",
   "metadata": {
    "tags": []
   },
   "outputs": [
    {
     "data": {
      "text/plain": [
       "b'A server error occurred.  Please contact the administrator.'"
      ]
     },
     "execution_count": 17,
     "metadata": {},
     "output_type": "execute_result"
    }
   ],
   "source": [
    "input_data={\"variable\":\"sepal length (cm)\"}\n",
    "response = requests.get(\"http://localhost:8000/get_data\",params=input_data)\n",
    "response.content"
   ]
  },
  {
   "cell_type": "code",
   "execution_count": 99,
   "id": "54686d6f-108a-45c0-ac6c-a88b0b09c51b",
   "metadata": {},
   "outputs": [],
   "source": [
    "from PIL import Image\n",
    "file = open(\"sample_image.png\", \"wb\")\n",
    "file.write(response.content)\n",
    "file.close()"
   ]
  },
  {
   "cell_type": "code",
   "execution_count": 10,
   "id": "a4d97f10-c155-4a35-9f24-360f28ff3169",
   "metadata": {},
   "outputs": [],
   "source": [
    "X,y=load_iris(return_X_y=True,as_frame=True)"
   ]
  },
  {
   "cell_type": "code",
   "execution_count": 18,
   "id": "ddd9431c-d8f0-42d1-82c0-6a5863cb2640",
   "metadata": {},
   "outputs": [
    {
     "ename": "NameError",
     "evalue": "name 'variable' is not defined",
     "output_type": "error",
     "traceback": [
      "\u001b[0;31m---------------------------------------------------------------------------\u001b[0m",
      "\u001b[0;31mNameError\u001b[0m                                 Traceback (most recent call last)",
      "\u001b[0;32m<ipython-input-18-1442e2c42079>\u001b[0m in \u001b[0;36m<module>\u001b[0;34m\u001b[0m\n\u001b[1;32m      1\u001b[0m n, bins, patches = plt.hist(\n\u001b[0;32m----> 2\u001b[0;31m         \u001b[0mX\u001b[0m\u001b[0;34m[\u001b[0m\u001b[0mvariable\u001b[0m\u001b[0;34m]\u001b[0m\u001b[0;34m,\u001b[0m \u001b[0;36m50\u001b[0m\u001b[0;34m,\u001b[0m \u001b[0mdensity\u001b[0m\u001b[0;34m=\u001b[0m\u001b[0;32mTrue\u001b[0m\u001b[0;34m,\u001b[0m \u001b[0mfacecolor\u001b[0m\u001b[0;34m=\u001b[0m\u001b[0;34m\"g\"\u001b[0m\u001b[0;34m,\u001b[0m \u001b[0malpha\u001b[0m\u001b[0;34m=\u001b[0m\u001b[0;36m0.75\u001b[0m\u001b[0;34m\u001b[0m\u001b[0;34m\u001b[0m\u001b[0m\n\u001b[0m\u001b[1;32m      3\u001b[0m     )\n\u001b[1;32m      4\u001b[0m \u001b[0mplt\u001b[0m\u001b[0;34m.\u001b[0m\u001b[0maxvline\u001b[0m\u001b[0;34m(\u001b[0m\u001b[0mX\u001b[0m\u001b[0;34m[\u001b[0m\u001b[0mvariable\u001b[0m\u001b[0;34m]\u001b[0m\u001b[0;34m.\u001b[0m\u001b[0mmean\u001b[0m\u001b[0;34m(\u001b[0m\u001b[0;34m)\u001b[0m\u001b[0;34m,\u001b[0m \u001b[0mcolor\u001b[0m\u001b[0;34m=\u001b[0m\u001b[0;34m\"k\"\u001b[0m\u001b[0;34m,\u001b[0m \u001b[0mlinestyle\u001b[0m\u001b[0;34m=\u001b[0m\u001b[0;34m\"dashed\"\u001b[0m\u001b[0;34m,\u001b[0m \u001b[0mlinewidth\u001b[0m\u001b[0;34m=\u001b[0m\u001b[0;36m1\u001b[0m\u001b[0;34m)\u001b[0m\u001b[0;34m\u001b[0m\u001b[0;34m\u001b[0m\u001b[0m\n\u001b[1;32m      5\u001b[0m \u001b[0mplt\u001b[0m\u001b[0;34m.\u001b[0m\u001b[0mxlabel\u001b[0m\u001b[0;34m(\u001b[0m\u001b[0mvariable\u001b[0m\u001b[0;34m)\u001b[0m\u001b[0;34m\u001b[0m\u001b[0;34m\u001b[0m\u001b[0m\n",
      "\u001b[0;31mNameError\u001b[0m: name 'variable' is not defined"
     ]
    }
   ],
   "source": [
    "variable=\"sepal length (cm)\"\n",
    "n, bins, patches = plt.hist(\n",
    "        X[variable], 50, density=True, facecolor=\"g\", alpha=0.75\n",
    "    )\n",
    "plt.axvline(X[variable].mean(), color=\"k\", linestyle=\"dashed\", linewidth=1)\n",
    "plt.xlabel(variable)\n",
    "plt.ylabel(\"Value\")\n",
    "plt.title(\"Histogram of \" + variable)\n",
    "plt.grid(True)\n",
    "plt.savefig(\"/images/\" + variable + \".png\")"
   ]
  }
 ],
 "metadata": {
  "kernelspec": {
   "display_name": "Python 3",
   "language": "python",
   "name": "python3"
  },
  "language_info": {
   "codemirror_mode": {
    "name": "ipython",
    "version": 3
   },
   "file_extension": ".py",
   "mimetype": "text/x-python",
   "name": "python",
   "nbconvert_exporter": "python",
   "pygments_lexer": "ipython3",
   "version": "3.7.6"
  }
 },
 "nbformat": 4,
 "nbformat_minor": 5
}
