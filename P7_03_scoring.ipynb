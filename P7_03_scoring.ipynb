{
 "cells": [
  {
   "cell_type": "code",
   "execution_count": 1,
   "id": "4e46d788-d936-476d-ae02-2f1ebc2cf4e3",
   "metadata": {},
   "outputs": [],
   "source": [
    "# Import standard libraries\n",
    "import pandas as pd\n",
    "import numpy as np\n",
    "from glob import glob\n",
    "import io\n",
    "import re\n",
    "\n",
    "# Import image processing/reading libraries\n",
    "import cv2\n",
    "import matplotlib.pyplot as plt\n",
    "from skimage import transform\n",
    "import albumentations as A\n",
    "\n",
    "from sklearn.feature_extraction.text import TfidfVectorizer\n",
    "from sklearn.cluster import MiniBatchKMeans\n",
    "from sklearn.model_selection import train_test_split\n",
    "\n",
    "import os\n",
    "from keras.layers import Flatten\n",
    "\n",
    "\n",
    "# Other libraries\n",
    "from IPython.display import clear_output"
   ]
  },
  {
   "cell_type": "code",
   "execution_count": 2,
   "id": "22b1016f-c135-4c85-916a-2f0390f1a517",
   "metadata": {},
   "outputs": [],
   "source": [
    "from sklearn.linear_model import LinearRegression\n",
    "from sklearn.datasets import load_iris"
   ]
  },
  {
   "cell_type": "code",
   "execution_count": 35,
   "id": "ca077f71-1a54-410b-8ab5-501975289c43",
   "metadata": {},
   "outputs": [],
   "source": [
    "import numpy as np\n",
    "import pandas as pd\n",
    "import pickle\n",
    "\n",
    "from sklearn.model_selection import train_test_split\n",
    "from sklearn.linear_model import LinearRegression\n",
    "\n",
    "\n",
    "class Model:\n",
    "    def __init__(self, X=[], y=[], model_type=\"linear\", params=[]):\n",
    "        self.X = X\n",
    "        self.y = y\n",
    "        if model_type == \"linear\":\n",
    "            self.model = LinearRegression()\n",
    "        elif model_type == \"test1\":\n",
    "            self.model = model_type(params[0], params[1], params[2])\n",
    "        elif model_type == \"test2\":\n",
    "            self.model = model_type(params[0], params[1], params[2])\n",
    "\n",
    "    def split(self, test_size):\n",
    "        X = np.array(self.X)\n",
    "        y = np.array(self.y)\n",
    "        self.X_train, self.X_test, self.y_train, self.y_test = train_test_split(\n",
    "            X, y, test_size=test_size, random_state=42\n",
    "        )\n",
    "\n",
    "    def fit(self):\n",
    "        self.fitted_model = self.model.fit(self.X_train, self.y_train)\n",
    "        pickle.dump(self.model, open( \"saved_model.pkl\", \"wb\" ))\n",
    "\n",
    "    def predict(self,new_data=None):\n",
    "        if type(new_data) != np.array:\n",
    "            try:\n",
    "                result = self.model.predict(self.X_test)\n",
    "            except:\n",
    "                print(\"No data was likely in the defined instance\")\n",
    "            return\n",
    "        else:\n",
    "            result = self.model.predict(new_data)\n",
    "        return result\n",
    "\n",
    "    def save_model(self, model_file=\"saved_model.pkl\"):\n",
    "        pickle.dump(self.model, open(model_file, \"wb\" ))\n",
    "\n",
    "    def import_model(self, model_file=\"saved_model.pkl\"):\n",
    "        self.model = pickle.load(open(model_file, \"rb\" ))"
   ]
  },
  {
   "cell_type": "code",
   "execution_count": 9,
   "id": "f97ebb3e-2129-41ad-bd46-04fc920dfaaa",
   "metadata": {},
   "outputs": [],
   "source": [
    "X,y=load_iris(return_X_y=True)\n",
    "model=Model(X,y,\"linear\",[])\n",
    "model.split(0.5)\n",
    "model.fit()\n",
    "model.predict()\n",
    "model.save_model()"
   ]
  },
  {
   "cell_type": "code",
   "execution_count": 36,
   "id": "afce2a31-4950-4e5b-a519-45c78a4fdccc",
   "metadata": {},
   "outputs": [
    {
     "name": "stdout",
     "output_type": "stream",
     "text": [
      "No data was likely in the defined instance\n"
     ]
    }
   ],
   "source": [
    "model2=Model()\n",
    "model2.import_model()\n",
    "X,y=load_iris(return_X_y=True)\n",
    "model2.predict()"
   ]
  }
 ],
 "metadata": {
  "kernelspec": {
   "display_name": "Python 3",
   "language": "python",
   "name": "python3"
  },
  "language_info": {
   "codemirror_mode": {
    "name": "ipython",
    "version": 3
   },
   "file_extension": ".py",
   "mimetype": "text/x-python",
   "name": "python",
   "nbconvert_exporter": "python",
   "pygments_lexer": "ipython3",
   "version": "3.7.6"
  }
 },
 "nbformat": 4,
 "nbformat_minor": 5
}
